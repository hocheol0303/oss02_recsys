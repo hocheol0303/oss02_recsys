{
 "cells": [
  {
   "cell_type": "code",
   "execution_count": 1,
   "id": "da4ec72b",
   "metadata": {},
   "outputs": [],
   "source": [
    "import pandas as pd\n",
    "train_df = pd.read_csv('/Users/myserver/workspace/oss/model04_demographic_filtering/data04/rating_train.csv')\n",
    "test_df = pd.read_csv('/Users/myserver/workspace/oss/model04_demographic_filtering/data04/rating_test.csv')"
   ]
  },
  {
   "cell_type": "code",
   "execution_count": null,
   "id": "9790152c",
   "metadata": {},
   "outputs": [],
   "source": [
    "# 250512\n",
    "# ratings 0~5 -> 0~1\n",
    "train_df['rating'] = train_df['rating'] / 5\n",
    "test_df['rating'] = test_df['rating'] / 5"
   ]
  },
  {
   "cell_type": "code",
   "execution_count": 7,
   "id": "b591abf7",
   "metadata": {},
   "outputs": [],
   "source": [
    "# 250513\n",
    "train_df['userId'] = train_df['userId'].apply(lambda x: x-1)\n",
    "test_df['userId'] = test_df['userId'].apply(lambda x: x-1)"
   ]
  },
  {
   "cell_type": "code",
   "execution_count": 9,
   "id": "13a7ca27",
   "metadata": {},
   "outputs": [],
   "source": [
    "with open('/Users/myserver/workspace/oss/model04_demographic_filtering/data04/rating_train.csv', 'w') as f:\n",
    "    train_df.to_csv(f, index=False)\n",
    "with open('/Users/myserver/workspace/oss/model04_demographic_filtering/data04/rating_test.csv', 'w') as f:\n",
    "    test_df.to_csv(f, index=False)"
   ]
  },
  {
   "cell_type": "code",
   "execution_count": null,
   "id": "4e319cfb",
   "metadata": {},
   "outputs": [],
   "source": []
  }
 ],
 "metadata": {
  "kernelspec": {
   "display_name": "Python (oss_env)",
   "language": "python",
   "name": "oss_env"
  },
  "language_info": {
   "codemirror_mode": {
    "name": "ipython",
    "version": 3
   },
   "file_extension": ".py",
   "mimetype": "text/x-python",
   "name": "python",
   "nbconvert_exporter": "python",
   "pygments_lexer": "ipython3",
   "version": "3.10.17"
  }
 },
 "nbformat": 4,
 "nbformat_minor": 5
}

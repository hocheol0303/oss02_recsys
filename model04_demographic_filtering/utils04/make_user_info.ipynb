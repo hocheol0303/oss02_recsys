{
 "cells": [
  {
   "cell_type": "code",
   "execution_count": 1,
   "id": "69584a85",
   "metadata": {},
   "outputs": [
    {
     "data": {
      "text/html": [
       "<div>\n",
       "<style scoped>\n",
       "    .dataframe tbody tr th:only-of-type {\n",
       "        vertical-align: middle;\n",
       "    }\n",
       "\n",
       "    .dataframe tbody tr th {\n",
       "        vertical-align: top;\n",
       "    }\n",
       "\n",
       "    .dataframe thead th {\n",
       "        text-align: right;\n",
       "    }\n",
       "</style>\n",
       "<table border=\"1\" class=\"dataframe\">\n",
       "  <thead>\n",
       "    <tr style=\"text-align: right;\">\n",
       "      <th></th>\n",
       "      <th>userId</th>\n",
       "      <th>gender</th>\n",
       "      <th>age</th>\n",
       "      <th>grade</th>\n",
       "      <th>likedChannel</th>\n",
       "    </tr>\n",
       "  </thead>\n",
       "  <tbody>\n",
       "    <tr>\n",
       "      <th>0</th>\n",
       "      <td>0</td>\n",
       "      <td>female</td>\n",
       "      <td>26</td>\n",
       "      <td>fresher</td>\n",
       "      <td>E</td>\n",
       "    </tr>\n",
       "    <tr>\n",
       "      <th>1</th>\n",
       "      <td>1</td>\n",
       "      <td>male</td>\n",
       "      <td>23</td>\n",
       "      <td>sophomore</td>\n",
       "      <td>B</td>\n",
       "    </tr>\n",
       "    <tr>\n",
       "      <th>2</th>\n",
       "      <td>2</td>\n",
       "      <td>male</td>\n",
       "      <td>19</td>\n",
       "      <td>senior</td>\n",
       "      <td>E</td>\n",
       "    </tr>\n",
       "    <tr>\n",
       "      <th>3</th>\n",
       "      <td>3</td>\n",
       "      <td>female</td>\n",
       "      <td>31</td>\n",
       "      <td>junior</td>\n",
       "      <td>E</td>\n",
       "    </tr>\n",
       "    <tr>\n",
       "      <th>4</th>\n",
       "      <td>4</td>\n",
       "      <td>female</td>\n",
       "      <td>32</td>\n",
       "      <td>fresher</td>\n",
       "      <td>D</td>\n",
       "    </tr>\n",
       "  </tbody>\n",
       "</table>\n",
       "</div>"
      ],
      "text/plain": [
       "   userId  gender  age      grade likedChannel\n",
       "0       0  female   26    fresher            E\n",
       "1       1    male   23  sophomore            B\n",
       "2       2    male   19     senior            E\n",
       "3       3  female   31     junior            E\n",
       "4       4  female   32    fresher            D"
      ]
     },
     "execution_count": 1,
     "metadata": {},
     "output_type": "execute_result"
    }
   ],
   "source": [
    "# 유저의 인구통계학적 정보를 담고 있는 데이터셋을 랜덤 생성하는 코드\n",
    "import pandas as pd\n",
    "import random\n",
    "\n",
    "df = pd.DataFrame(columns=['userId', 'gender', 'age', 'grade', 'likedChannel'])\n",
    "for i in range(0, 1000):\n",
    "    userId = i\n",
    "    gender = random.choice(['male', 'female'])\n",
    "    age = random.randint(19, 35)\n",
    "    grade = random.choice(['fresher', 'sophomore', 'junior', 'senior', 'eternal'])\n",
    "    liked_channel = random.choice(['A', 'B', 'C', 'D', 'E'])\n",
    "    df.loc[len(df)] = [userId, gender, age, grade, liked_channel]\n",
    "\n",
    "df.to_csv('/Users/myserver/workspace/OSS/model04_demographic_filtering/data04/user_data.csv', index=False)\n",
    "df.head()"
   ]
  },
  {
   "cell_type": "code",
   "execution_count": null,
   "id": "9c58a4c8",
   "metadata": {},
   "outputs": [],
   "source": []
  }
 ],
 "metadata": {
  "kernelspec": {
   "display_name": "Python (oss_env)",
   "language": "python",
   "name": "oss_env"
  },
  "language_info": {
   "codemirror_mode": {
    "name": "ipython",
    "version": 3
   },
   "file_extension": ".py",
   "mimetype": "text/x-python",
   "name": "python",
   "nbconvert_exporter": "python",
   "pygments_lexer": "ipython3",
   "version": "3.10.17"
  }
 },
 "nbformat": 4,
 "nbformat_minor": 5
}

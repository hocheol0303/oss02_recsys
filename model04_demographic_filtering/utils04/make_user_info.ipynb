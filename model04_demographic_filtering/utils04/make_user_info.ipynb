{
 "cells": [
  {
   "cell_type": "code",
   "execution_count": 28,
   "id": "69584a85",
   "metadata": {},
   "outputs": [
    {
     "data": {
      "text/plain": [
       "[{'userId': 0,\n",
       "  'gender': 'female',\n",
       "  'age': 21,\n",
       "  'grade': 'sophomore',\n",
       "  'likedChannel': ['A', 'E']},\n",
       " {'userId': 1,\n",
       "  'gender': 'female',\n",
       "  'age': 24,\n",
       "  'grade': 'sophomore',\n",
       "  'likedChannel': ['A', 'C', 'E']},\n",
       " {'userId': 2,\n",
       "  'gender': 'male',\n",
       "  'age': 22,\n",
       "  'grade': 'junior',\n",
       "  'likedChannel': ['E']}]"
      ]
     },
     "execution_count": 28,
     "metadata": {},
     "output_type": "execute_result"
    }
   ],
   "source": [
    "# 유저의 인구통계학적 정보를 담고 있는 데이터셋을 랜덤 생성하는 코드\n",
    "import pandas as pd\n",
    "import random\n",
    "import json\n",
    "\n",
    "df = pd.DataFrame(columns=['userId', 'gender', 'age', 'grade', 'likedChannel'])\n",
    "json_data = []\n",
    "for i in range(0, 1000):\n",
    "    userId = i\n",
    "    gender = random.choice(['male', 'female'])\n",
    "    age = random.randint(19, 35)\n",
    "    grade = random.choice(['fresher', 'sophomore', 'junior', 'senior', 'eternal'])\n",
    "    liked_channel = []\n",
    "    for channel in ['A', 'B', 'C', 'D', 'E']:\n",
    "        if random.random() > 0.5:\n",
    "            liked_channel.append(channel)\n",
    "    json_data.append({\n",
    "        'userId' : userId, \n",
    "        'gender' : gender,\n",
    "        'age' : age, \n",
    "        'grade' : grade, \n",
    "        'likedChannel' : liked_channel\n",
    "    })\n",
    "\n",
    "with open('/Users/myserver/workspace/oss/model04_demographic_filtering/data04/user_data.json', 'w') as f:\n",
    "    json.dump(json_data, f, indent=2, ensure_ascii=False)\n",
    "json_data[:3]"
   ]
  },
  {
   "cell_type": "code",
   "execution_count": null,
   "id": "6f783314",
   "metadata": {},
   "outputs": [
    {
     "data": {
      "text/html": [
       "<div>\n",
       "<style scoped>\n",
       "    .dataframe tbody tr th:only-of-type {\n",
       "        vertical-align: middle;\n",
       "    }\n",
       "\n",
       "    .dataframe tbody tr th {\n",
       "        vertical-align: top;\n",
       "    }\n",
       "\n",
       "    .dataframe thead th {\n",
       "        text-align: right;\n",
       "    }\n",
       "</style>\n",
       "<table border=\"1\" class=\"dataframe\">\n",
       "  <thead>\n",
       "    <tr style=\"text-align: right;\">\n",
       "      <th></th>\n",
       "      <th>userId</th>\n",
       "      <th>gender</th>\n",
       "      <th>age</th>\n",
       "      <th>grade</th>\n",
       "      <th>likedChannel</th>\n",
       "    </tr>\n",
       "  </thead>\n",
       "  <tbody>\n",
       "    <tr>\n",
       "      <th>0</th>\n",
       "      <td>0</td>\n",
       "      <td>male</td>\n",
       "      <td>33</td>\n",
       "      <td>junior</td>\n",
       "      <td>[D, E]</td>\n",
       "    </tr>\n",
       "    <tr>\n",
       "      <th>1</th>\n",
       "      <td>1</td>\n",
       "      <td>female</td>\n",
       "      <td>22</td>\n",
       "      <td>junior</td>\n",
       "      <td>[B, C, E]</td>\n",
       "    </tr>\n",
       "    <tr>\n",
       "      <th>2</th>\n",
       "      <td>2</td>\n",
       "      <td>female</td>\n",
       "      <td>35</td>\n",
       "      <td>senior</td>\n",
       "      <td>[C, E]</td>\n",
       "    </tr>\n",
       "    <tr>\n",
       "      <th>3</th>\n",
       "      <td>3</td>\n",
       "      <td>female</td>\n",
       "      <td>25</td>\n",
       "      <td>senior</td>\n",
       "      <td>[A, D]</td>\n",
       "    </tr>\n",
       "    <tr>\n",
       "      <th>4</th>\n",
       "      <td>4</td>\n",
       "      <td>female</td>\n",
       "      <td>20</td>\n",
       "      <td>eternal</td>\n",
       "      <td>[B, C, E]</td>\n",
       "    </tr>\n",
       "  </tbody>\n",
       "</table>\n",
       "</div>"
      ],
      "text/plain": [
       "   userId  gender  age    grade likedChannel\n",
       "0       0    male   33   junior       [D, E]\n",
       "1       1  female   22   junior    [B, C, E]\n",
       "2       2  female   35   senior       [C, E]\n",
       "3       3  female   25   senior       [A, D]\n",
       "4       4  female   20  eternal    [B, C, E]"
      ]
     },
     "execution_count": 22,
     "metadata": {},
     "output_type": "execute_result"
    }
   ],
   "source": [
    "hihi = pd.read_csv('/Users/myserver/workspace/OSS/model04_demographic_filtering/data04/user_data.csv')"
   ]
  }
 ],
 "metadata": {
  "kernelspec": {
   "display_name": "Python (oss_env)",
   "language": "python",
   "name": "oss_env"
  }
 },
 "nbformat": 4,
 "nbformat_minor": 5
}

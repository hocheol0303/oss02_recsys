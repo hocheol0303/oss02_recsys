{
 "cells": [
  {
   "cell_type": "code",
   "execution_count": null,
   "id": "69584a85",
   "metadata": {},
   "outputs": [
    {
     "data": {
      "text/html": [
       "<div>\n",
       "<style scoped>\n",
       "    .dataframe tbody tr th:only-of-type {\n",
       "        vertical-align: middle;\n",
       "    }\n",
       "\n",
       "    .dataframe tbody tr th {\n",
       "        vertical-align: top;\n",
       "    }\n",
       "\n",
       "    .dataframe thead th {\n",
       "        text-align: right;\n",
       "    }\n",
       "</style>\n",
       "<table border=\"1\" class=\"dataframe\">\n",
       "  <thead>\n",
       "    <tr style=\"text-align: right;\">\n",
       "      <th></th>\n",
       "      <th>userId</th>\n",
       "      <th>gender</th>\n",
       "      <th>age</th>\n",
       "      <th>major</th>\n",
       "      <th>grade</th>\n",
       "    </tr>\n",
       "  </thead>\n",
       "  <tbody>\n",
       "    <tr>\n",
       "      <th>0</th>\n",
       "      <td>1</td>\n",
       "      <td>male</td>\n",
       "      <td>18</td>\n",
       "      <td>engineering</td>\n",
       "      <td>sophomore</td>\n",
       "    </tr>\n",
       "    <tr>\n",
       "      <th>1</th>\n",
       "      <td>2</td>\n",
       "      <td>male</td>\n",
       "      <td>28</td>\n",
       "      <td>arts</td>\n",
       "      <td>senior</td>\n",
       "    </tr>\n",
       "    <tr>\n",
       "      <th>2</th>\n",
       "      <td>3</td>\n",
       "      <td>male</td>\n",
       "      <td>26</td>\n",
       "      <td>business</td>\n",
       "      <td>senior</td>\n",
       "    </tr>\n",
       "    <tr>\n",
       "      <th>3</th>\n",
       "      <td>4</td>\n",
       "      <td>female</td>\n",
       "      <td>27</td>\n",
       "      <td>humanities</td>\n",
       "      <td>eternal</td>\n",
       "    </tr>\n",
       "    <tr>\n",
       "      <th>4</th>\n",
       "      <td>5</td>\n",
       "      <td>male</td>\n",
       "      <td>27</td>\n",
       "      <td>humanities</td>\n",
       "      <td>sophomore</td>\n",
       "    </tr>\n",
       "  </tbody>\n",
       "</table>\n",
       "</div>"
      ],
      "text/plain": [
       "   userId  gender  age        major      grade\n",
       "0       1    male   18  engineering  sophomore\n",
       "1       2    male   28         arts     senior\n",
       "2       3    male   26     business     senior\n",
       "3       4  female   27   humanities    eternal\n",
       "4       5    male   27   humanities  sophomore"
      ]
     },
     "execution_count": 19,
     "metadata": {},
     "output_type": "execute_result"
    }
   ],
   "source": [
    "# 유저의 인구통계학적 정보를 담고 있는 데이터셋을 랜덤 생성하는 코드\n",
    "import pandas as pd\n",
    "import random\n",
    "\n",
    "df = pd.DataFrame(columns=['userId', 'gender', 'age', 'major', 'grade'])\n",
    "for i in range(1, 1001):\n",
    "    userId = i\n",
    "    gender = random.choice(['male', 'female'])\n",
    "    age = random.randint(18, 35)\n",
    "    major = random.choice(['engineering', 'science', 'arts', 'business', 'humanities', 'other'])\n",
    "    grade = random.choice(['fresher', 'sophomore', 'junior', 'senior', 'eternal'])\n",
    "    df.loc[len(df)] = [userId, gender, age, major, grade]\n",
    "\n",
    "df.to_csv('/Users/myserver/workspace/OSS/model04_demographic_filtering/data04/user_data.csv', index=False)\n",
    "df.head()"
   ]
  }
 ],
 "metadata": {
  "kernelspec": {
   "display_name": "oss",
   "language": "python",
   "name": "python3"
  },
  "language_info": {
   "codemirror_mode": {
    "name": "ipython",
    "version": 3
   },
   "file_extension": ".py",
   "mimetype": "text/x-python",
   "name": "python",
   "nbconvert_exporter": "python",
   "pygments_lexer": "ipython3",
   "version": "3.10.16"
  }
 },
 "nbformat": 4,
 "nbformat_minor": 5
}
